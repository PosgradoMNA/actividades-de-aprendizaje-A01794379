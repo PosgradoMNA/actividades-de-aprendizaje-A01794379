{
 "cells": [
  {
   "cell_type": "markdown",
   "metadata": {},
   "source": [
    "# Module 3\n",
    "## Fundamentals\n",
    "\n",
    "### Conditions and Branching\n",
    "\n",
    "#### Comparison Operatos"
   ]
  },
  {
   "cell_type": "code",
   "execution_count": 3,
   "metadata": {},
   "outputs": [
    {
     "name": "stdout",
     "output_type": "stream",
     "text": [
      "False\n",
      "True\n",
      "True\n",
      "True\n",
      "False\n",
      "False\n",
      "True\n",
      "True\n"
     ]
    }
   ],
   "source": [
    "a = 6\n",
    "# == check if two values are equals\n",
    "print(a==7) # False\n",
    "print(a==6) # True\n",
    "\n",
    "# > check if the left value is greater than the right one\n",
    "i = 6\n",
    "print(i>5)\n",
    "# >= check if the left value is greater or equals than the right one\n",
    "i = 5\n",
    "print(i>=5)\n",
    "# < check if the right value is greater than the left one\n",
    "i = 5\n",
    "print(i<5)\n",
    "# <= check if the right value is greater or equals than the left one\n",
    "i = 8\n",
    "print(i<=5)\n",
    "# != check if the left value is different from the left one\n",
    "i = 3\n",
    "print(i != 4)\n",
    "j = \"Jose\"\n",
    "print(j != 3)\n"
   ]
  },
  {
   "cell_type": "markdown",
   "metadata": {},
   "source": [
    "#### The if Statement"
   ]
  },
  {
   "cell_type": "code",
   "execution_count": 5,
   "metadata": {},
   "outputs": [
    {
     "name": "stdout",
     "output_type": "stream",
     "text": [
      "you can enter\n",
      "move on\n"
     ]
    }
   ],
   "source": [
    "age = 19\n",
    "\n",
    "if (age>18):\n",
    "  print(\"you can enter\")\n",
    "\n",
    "print(\"move on\")"
   ]
  },
  {
   "cell_type": "markdown",
   "metadata": {},
   "source": [
    "#### The else Statement"
   ]
  },
  {
   "cell_type": "code",
   "execution_count": 8,
   "metadata": {},
   "outputs": [
    {
     "name": "stdout",
     "output_type": "stream",
     "text": [
      "go see Meat Loaf\n",
      "move on\n"
     ]
    }
   ],
   "source": [
    "age = 17\n",
    "if (age>18):\n",
    "  print(\"you can enter\")\n",
    "else:\n",
    "  print(\"go see Meat Loaf\")\n",
    "print(\"move on\")"
   ]
  },
  {
   "cell_type": "markdown",
   "metadata": {},
   "source": [
    "#### The elif Statement"
   ]
  },
  {
   "cell_type": "code",
   "execution_count": 9,
   "metadata": {},
   "outputs": [
    {
     "name": "stdout",
     "output_type": "stream",
     "text": [
      "go see Pink Floyd\n",
      "move on\n"
     ]
    }
   ],
   "source": [
    "age = 18\n",
    "if (age>18):\n",
    "  print(\"you can enter\")\n",
    "elif (age == 18):\n",
    "  print(\"go see Pink Floyd\")\n",
    "else:\n",
    "  print(\"go see Meat Loaf\")\n",
    "print(\"move on\")"
   ]
  },
  {
   "cell_type": "markdown",
   "metadata": {},
   "source": [
    "#### Logic Operators"
   ]
  },
  {
   "cell_type": "code",
   "execution_count": 12,
   "metadata": {},
   "outputs": [
    {
     "name": "stdout",
     "output_type": "stream",
     "text": [
      "The Album was made in the 70's or 90's\n",
      "The album was made in the 1990's\n",
      "This album was made in the 80's\n"
     ]
    }
   ],
   "source": [
    "album_year = 1990\n",
    "# or\n",
    "if (album_year < 1980) or (album_year > 1989):\n",
    "  print(\"The Album was made in the 70's or 90's\")\n",
    "else:\n",
    "  print(\"The album was made in the 1980's\")\n",
    "\n",
    "# not\n",
    "if (not(album_year < 1980)):\n",
    "  print(\"The album was made in the 1990's\")\n",
    "\n",
    "# and\n",
    "album_year = 1983\n",
    "if (album_year > 1979) and (album_year < 1990):\n",
    "  print(\"This album was made in the 80's\")"
   ]
  },
  {
   "cell_type": "markdown",
   "metadata": {},
   "source": [
    "### Loops\n",
    "\n",
    "#### For"
   ]
  },
  {
   "cell_type": "code",
   "execution_count": 16,
   "metadata": {},
   "outputs": [
    {
     "name": "stdout",
     "output_type": "stream",
     "text": [
      "['white', 'white', 'white']\n"
     ]
    }
   ],
   "source": [
    "squares = [\"red\", \"yellow\", \"green\"]\n",
    "\n",
    "for i in range(0,3):\n",
    "  squares[i] = \"white\"\n",
    "\n",
    "print(squares)"
   ]
  },
  {
   "cell_type": "code",
   "execution_count": 17,
   "metadata": {},
   "outputs": [
    {
     "name": "stdout",
     "output_type": "stream",
     "text": [
      "red\n",
      "yellow\n",
      "green\n"
     ]
    }
   ],
   "source": [
    "squares = [\"red\", \"yellow\", \"green\"]\n",
    "\n",
    "for square in squares:\n",
    "  print(square)"
   ]
  },
  {
   "cell_type": "code",
   "execution_count": 18,
   "metadata": {},
   "outputs": [
    {
     "name": "stdout",
     "output_type": "stream",
     "text": [
      "0 red\n",
      "1 yellow\n",
      "2 green\n"
     ]
    }
   ],
   "source": [
    "for i, square in enumerate(squares):\n",
    "  print(i, square)"
   ]
  },
  {
   "cell_type": "markdown",
   "metadata": {},
   "source": [
    "#### While"
   ]
  },
  {
   "cell_type": "code",
   "execution_count": 19,
   "metadata": {},
   "outputs": [
    {
     "name": "stdout",
     "output_type": "stream",
     "text": [
      "['orange', 'orange']\n",
      "2\n"
     ]
    }
   ],
   "source": [
    "squares = [\"orange\", \"orange\", \"purple\", \"blue\"]\n",
    "new_squares = []\n",
    "i = 0\n",
    "\n",
    "while(squares[i] == \"orange\"):\n",
    "  new_squares.append(squares[i])\n",
    "  i += 1\n",
    "\n",
    "print(new_squares)\n",
    "print(i)"
   ]
  },
  {
   "cell_type": "markdown",
   "metadata": {},
   "source": [
    "### Functions"
   ]
  },
  {
   "cell_type": "code",
   "execution_count": 20,
   "metadata": {},
   "outputs": [
    {
     "name": "stdout",
     "output_type": "stream",
     "text": [
      "39.2\n"
     ]
    }
   ],
   "source": [
    "# Sum\n",
    "album_ratings = [10,0.5,9.5,4.2,4,5,6]\n",
    "S = sum(album_ratings)\n",
    "print(S)"
   ]
  },
  {
   "cell_type": "code",
   "execution_count": 21,
   "metadata": {},
   "outputs": [
    {
     "name": "stdout",
     "output_type": "stream",
     "text": [
      "[0.5, 4, 4.2, 5, 6, 9.5, 10]\n"
     ]
    }
   ],
   "source": [
    "# Sorted vs Sort\n",
    "album_ratings = [10,0.5,9.5,4.2,4,5,6]\n",
    "sorted_album_rating = sorted(album_ratings)\n",
    "print(sorted_album_rating)"
   ]
  },
  {
   "cell_type": "code",
   "execution_count": 22,
   "metadata": {},
   "outputs": [
    {
     "name": "stdout",
     "output_type": "stream",
     "text": [
      "[0.5, 4, 4.2, 5, 6, 9.5, 10]\n"
     ]
    }
   ],
   "source": [
    "album_ratings = [10,0.5,9.5,4.2,4,5,6]\n",
    "album_ratings.sort()\n",
    "print(album_ratings)"
   ]
  },
  {
   "cell_type": "markdown",
   "metadata": {},
   "source": [
    "#### Making functions"
   ]
  },
  {
   "cell_type": "code",
   "execution_count": 23,
   "metadata": {},
   "outputs": [
    {
     "name": "stdout",
     "output_type": "stream",
     "text": [
      "6\n",
      "11\n"
     ]
    }
   ],
   "source": [
    "def add1(a):\n",
    "  \"\"\" add 1 to a \"\"\" # documentation string\n",
    "  b = a + 1\n",
    "  return b\n",
    "\n",
    "print(add1(5))\n",
    "\n",
    "c = add1(10)\n",
    "\n",
    "print(c)"
   ]
  },
  {
   "cell_type": "code",
   "execution_count": 26,
   "metadata": {},
   "outputs": [
    {
     "name": "stdout",
     "output_type": "stream",
     "text": [
      "6\n",
      "122.0\n",
      "hello hello hello \n"
     ]
    }
   ],
   "source": [
    "# Multiple Parameters\n",
    "def mult(a,b):\n",
    "  c = a * b\n",
    "  return c\n",
    "\n",
    "print(mult(2,3))\n",
    "\n",
    "print(mult(10,12.2))\n",
    "\n",
    "print(mult(\"hello \", 3))"
   ]
  },
  {
   "cell_type": "code",
   "execution_count": 27,
   "metadata": {},
   "outputs": [
    {
     "name": "stdout",
     "output_type": "stream",
     "text": [
      "Michael Jackson\n"
     ]
    }
   ],
   "source": [
    "# Without return\n",
    "def MJ():\n",
    "  print(\"Michael Jackson\")\n",
    "\n",
    "MJ()"
   ]
  },
  {
   "cell_type": "code",
   "execution_count": 28,
   "metadata": {},
   "outputs": [
    {
     "name": "stdout",
     "output_type": "stream",
     "text": [
      "None\n"
     ]
    }
   ],
   "source": [
    "def NoWork():\n",
    "  pass\n",
    "\n",
    "print(NoWork())"
   ]
  },
  {
   "cell_type": "code",
   "execution_count": 29,
   "metadata": {},
   "outputs": [
    {
     "name": "stdout",
     "output_type": "stream",
     "text": [
      "result 4\n"
     ]
    },
    {
     "data": {
      "text/plain": [
       "4"
      ]
     },
     "execution_count": 29,
     "metadata": {},
     "output_type": "execute_result"
    }
   ],
   "source": [
    "# More than one task\n",
    "def add1(a):\n",
    "  b = a + 1\n",
    "  print(\"result\", b)\n",
    "  return b\n",
    "\n",
    "add1(3)"
   ]
  },
  {
   "cell_type": "code",
   "execution_count": 30,
   "metadata": {},
   "outputs": [
    {
     "name": "stdout",
     "output_type": "stream",
     "text": [
      "Album 0 Rating is 10\n",
      "Album 1 Rating is 0.5\n",
      "Album 2 Rating is 9.5\n",
      "Album 3 Rating is 4.2\n",
      "Album 4 Rating is 4\n",
      "Album 5 Rating is 5\n",
      "Album 6 Rating is 6\n"
     ]
    }
   ],
   "source": [
    "def printStuff(Stuff):\n",
    "  for i,s in enumerate(Stuff):\n",
    "    print(\"Album\", i, \"Rating is\", s)\n",
    "\n",
    "album_ratings = [10,0.5,9.5,4.2,4,5,6]\n",
    "\n",
    "printStuff(album_ratings)"
   ]
  },
  {
   "cell_type": "code",
   "execution_count": 31,
   "metadata": {},
   "outputs": [
    {
     "name": "stdout",
     "output_type": "stream",
     "text": [
      "Jose\n",
      "Mauricio\n",
      "Chavarria\n"
     ]
    }
   ],
   "source": [
    "# Collection arguments\n",
    "def ArtistNames(*names):\n",
    "  for name in names:\n",
    "    print(name)\n",
    "\n",
    "ArtistNames(\"Jose\", \"Mauricio\", \"Chavarria\")\n"
   ]
  },
  {
   "cell_type": "code",
   "execution_count": 41,
   "metadata": {},
   "outputs": [
    {
     "name": "stdout",
     "output_type": "stream",
     "text": [
      "AC\n",
      "ACDC\n"
     ]
    }
   ],
   "source": [
    "# Scope\n",
    "# Global Scope\n",
    "\n",
    "x = \"AC\"\n",
    "\n",
    "def AddDC(y):\n",
    "  y = x + \"DC\"\n",
    "  print(x)\n",
    "  return(y)\n",
    "\n",
    "\n",
    "z = AddDC(x)\n",
    "print (z)"
   ]
  },
  {
   "cell_type": "code",
   "execution_count": 42,
   "metadata": {},
   "outputs": [
    {
     "name": "stdout",
     "output_type": "stream",
     "text": [
      "1982\n",
      "2016\n"
     ]
    }
   ],
   "source": [
    "# Local variables\n",
    "\n",
    "def Thriller():\n",
    "  Date = 1982\n",
    "  return Date\n",
    "\n",
    "Date = 2016\n",
    "print(Thriller())\n",
    "print(Date)"
   ]
  },
  {
   "cell_type": "code",
   "execution_count": 43,
   "metadata": {},
   "outputs": [
    {
     "name": "stdout",
     "output_type": "stream",
     "text": [
      "9\n",
      "9\n"
     ]
    }
   ],
   "source": [
    "def ACDC(y):\n",
    "  print(Rating)\n",
    "  return (Rating + y)\n",
    "\n",
    "Rating = 9\n",
    "\n",
    "Z = ACDC(1)\n",
    "\n",
    "print(Rating)"
   ]
  },
  {
   "cell_type": "code",
   "execution_count": 44,
   "metadata": {},
   "outputs": [
    {
     "name": "stdout",
     "output_type": "stream",
     "text": [
      "45 million\n"
     ]
    }
   ],
   "source": [
    "def PinkFloyd():\n",
    "  global ClaimedSales\n",
    "  ClaimedSales = '45 million'\n",
    "  return ClaimedSales\n",
    "\n",
    "PinkFloyd()\n",
    "print(ClaimedSales)"
   ]
  },
  {
   "cell_type": "markdown",
   "metadata": {},
   "source": [
    "### Object and Classes"
   ]
  },
  {
   "cell_type": "code",
   "execution_count": 51,
   "metadata": {},
   "outputs": [
    {
     "name": "stdout",
     "output_type": "stream",
     "text": [
      "10\n",
      "blue\n",
      "20\n"
     ]
    }
   ],
   "source": [
    "class Circle(object ):\n",
    "  \n",
    "  def __init__(self, radius, color = \"red\"):\n",
    "    self.radius = radius;\n",
    "    self.color = color;\n",
    "\n",
    "  def add_radius(self, r):\n",
    "    self.radius += r\n",
    "    return self.radius\n",
    "\n",
    "class Rectanble(object ):\n",
    "\n",
    "  def __init__(self, color, height, width):\n",
    "    self.color = color;\n",
    "    self.height = height;\n",
    "    self.width = width;\n",
    "\n",
    "RedCircle = Circle(10, \"red\")\n",
    "print(RedCircle.radius)\n",
    "RedCircle.color = \"blue\"\n",
    "print(RedCircle.color)\n",
    "\n",
    "print(RedCircle.add_radius(10))"
   ]
  },
  {
   "cell_type": "code",
   "execution_count": null,
   "metadata": {},
   "outputs": [],
   "source": [
    "\n"
   ]
  }
 ],
 "metadata": {
  "kernelspec": {
   "display_name": "Python 3.10.6 64-bit",
   "language": "python",
   "name": "python3"
  },
  "language_info": {
   "codemirror_mode": {
    "name": "ipython",
    "version": 3
   },
   "file_extension": ".py",
   "mimetype": "text/x-python",
   "name": "python",
   "nbconvert_exporter": "python",
   "pygments_lexer": "ipython3",
   "version": "3.10.6"
  },
  "orig_nbformat": 4,
  "vscode": {
   "interpreter": {
    "hash": "b0fa6594d8f4cbf19f97940f81e996739fb7646882a419484c72d19e05852a7e"
   }
  }
 },
 "nbformat": 4,
 "nbformat_minor": 2
}
