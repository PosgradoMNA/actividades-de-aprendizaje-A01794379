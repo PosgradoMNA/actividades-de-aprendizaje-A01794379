{
 "cells": [
  {
   "cell_type": "markdown",
   "metadata": {},
   "source": [
    "## Module 1\n",
    "# Your First Program"
   ]
  },
  {
   "cell_type": "code",
   "execution_count": 6,
   "metadata": {},
   "outputs": [
    {
     "name": "stdout",
     "output_type": "stream",
     "text": [
      "Hello Python 101\n"
     ]
    }
   ],
   "source": [
    "print('Hello Python 101')"
   ]
  },
  {
   "cell_type": "code",
   "execution_count": 7,
   "metadata": {},
   "outputs": [
    {
     "name": "stdout",
     "output_type": "stream",
     "text": [
      "Hello\n",
      "World!\n"
     ]
    }
   ],
   "source": [
    "print(\"Hello\\nWorld!\")"
   ]
  },
  {
   "cell_type": "code",
   "execution_count": 8,
   "metadata": {},
   "outputs": [],
   "source": [
    "# print('Hello World!')"
   ]
  },
  {
   "cell_type": "markdown",
   "metadata": {},
   "source": [
    "# Types\n",
    "\n",
    "11 -> int\n",
    "21.213 -> float\n",
    "\"Hello Python 101\" -> str\n",
    "True or False -> bool\n",
    "\n",
    "- Cast types\n",
    "float(2) -> 2.0 //Nothing really change\n",
    "int(1.1) -> 1 // Be careful with this because your are losing information\n",
    "int('1') -> 1\n",
    "int('A') -> ERROR\n",
    "str(1) -> \"1\"\n",
    "str(4.5) -> \"4.5\"\n",
    "int(True) -> 1\n",
    "int(False) -> 0\n",
    "bool(1) -> True\n",
    "bool(0) -> False"
   ]
  },
  {
   "cell_type": "markdown",
   "metadata": {},
   "source": [
    "# Expressions and Variables"
   ]
  },
  {
   "cell_type": "code",
   "execution_count": 9,
   "metadata": {},
   "outputs": [],
   "source": [
    "x = 43 + 60 + 16 + 41 \n",
    "# x:160\n",
    "y = x / 60\n",
    "# y:2.66...\n",
    "x = x / 60\n",
    "# x:2.66...\n",
    "\n",
    "total_min = 43 + 42 + 57\n",
    "total_hr = total_min / 60\n",
    "# total_hr:2.367"
   ]
  },
  {
   "cell_type": "markdown",
   "metadata": {},
   "source": [
    "# String Operations "
   ]
  },
  {
   "cell_type": "code",
   "execution_count": 15,
   "metadata": {},
   "outputs": [
    {
     "name": "stdout",
     "output_type": "stream",
     "text": [
      "Jose Chavarria\n",
      "is the best\n",
      "Jose Chavarria\tis the best\n",
      "Jose Chavarria \\ is the best\n",
      "Jose Chavarria \\ is the best\n",
      "JOSE CHAVARRIA\n",
      "jose chavarria\n",
      "Ma\n"
     ]
    },
    {
     "data": {
      "text/plain": [
       "-1"
      ]
     },
     "execution_count": 15,
     "metadata": {},
     "output_type": "execute_result"
    }
   ],
   "source": [
    "Name = \"Jose Chavarria\"\n",
    "# Name[0]:J\n",
    "# Name[5]:C\n",
    "# Name[8]:v\n",
    "# Name[0:3]:Jose\n",
    "# Name[8:11]:var\n",
    "# Name[::2]Js hvri\n",
    "len(Name) #length of the string\n",
    "\n",
    "Statement = Name + \"is the best\"\n",
    "\n",
    "tuples = Name * 3\n",
    "\n",
    "# Strings: espace sequences\n",
    "print(Name + \"\\nis the best\")\n",
    "print(Name + \"\\tis the best\")\n",
    "print(Name + \" \\\\ is the best\")\n",
    "print(Name + r\" \\ is the best\")\n",
    "\n",
    "#Methods\n",
    "print(Name.upper())\n",
    "print(Name.lower())\n",
    "NameB = Name.replace('Jose', 'Mauricio')\n",
    "print(NameB)\n",
    "\n",
    "Name.find('Jose') # returns 0 / returns the fisrt index of the sequence\n",
    "Name.find('Guille') # returns -1 when find nothing\n"
   ]
  }
 ],
 "metadata": {
  "kernelspec": {
   "display_name": "Python 3.10.6 64-bit",
   "language": "python",
   "name": "python3"
  },
  "language_info": {
   "codemirror_mode": {
    "name": "ipython",
    "version": 3
   },
   "file_extension": ".py",
   "mimetype": "text/x-python",
   "name": "python",
   "nbconvert_exporter": "python",
   "pygments_lexer": "ipython3",
   "version": "3.10.6"
  },
  "orig_nbformat": 4,
  "vscode": {
   "interpreter": {
    "hash": "b0fa6594d8f4cbf19f97940f81e996739fb7646882a419484c72d19e05852a7e"
   }
  }
 },
 "nbformat": 4,
 "nbformat_minor": 2
}
