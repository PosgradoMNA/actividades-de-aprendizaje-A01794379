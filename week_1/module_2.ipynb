{
 "cells": [
  {
   "cell_type": "markdown",
   "metadata": {},
   "source": [
    "# Module 2\n",
    "## Lists and Tuples\n",
    "\n",
    "### Tuples\n",
    "- Are an ordered sequence\n",
    "- Are written as comma-separated elements within parentheses\n",
    "- Are immutables"
   ]
  },
  {
   "cell_type": "code",
   "execution_count": 18,
   "metadata": {},
   "outputs": [
    {
     "name": "stdout",
     "output_type": "stream",
     "text": [
      "<class 'tuple'>\n",
      "hey\n"
     ]
    },
    {
     "data": {
      "text/plain": [
       "'rock'"
      ]
     },
     "execution_count": 18,
     "metadata": {},
     "output_type": "execute_result"
    }
   ],
   "source": [
    "Ratings = (10,9,8,7,6,5,4,3,2)\n",
    "# A tuple can contain different types of elements inside\n",
    "tuple1 = (\"hey\", 10, 15.5)\n",
    "# But the type of the variable is always \"tuple\"\n",
    "print(type(tuple1))\n",
    "# We can get an element using its index, the same way as an list or string\n",
    "print(tuple1[0])\n",
    "# Combine tuples\n",
    "tuple2 = tuple1 + (\"hard rock\", 10) \n",
    "# (\"hey\", 10, 15.5, \"hard rock\", 10)\n",
    "\n",
    "# Slicing\n",
    "tuple2[0:3] # ('hey', 10, 15.5)\n",
    "\n",
    "#Length\n",
    "len(tuple2) # 5\n",
    "\n",
    "#Nesting\n",
    "NT = (1,2,(\"pop\", \"rock\"), (3,4), (\"disco\", (1,2)))\n",
    "NT[2][1] # rock"
   ]
  },
  {
   "cell_type": "markdown",
   "metadata": {},
   "source": [
    "### List\n",
    "- Are also ordered sequences\n",
    "- Is represented with square brackets"
   ]
  },
  {
   "cell_type": "code",
   "execution_count": 19,
   "metadata": {},
   "outputs": [
    {
     "name": "stdout",
     "output_type": "stream",
     "text": [
      "Michael Jackson\n"
     ]
    }
   ],
   "source": [
    "L = [\"Michael Jackson\", 10.1, 1952, [1,2], (\"A\", 1)]\n",
    "# We can get an element using its index, the same way as an tuple or string\n",
    "print(L[0])\n",
    "# Slicing, combine is the same as is in tuples\n",
    "\n",
    "# Extend method (concat lists)\n",
    "L.extend([\"pop\", 10]) \n",
    "# [\"Michael Jackson\", 10.1, 1952, [1,2], (\"A\", 1), \"pop\", 10]\n",
    "\n",
    "# Append method (add the argument element at the end of the list)\n",
    "L.append([\"eye\", \"green\"])\n",
    "# [\"Michael Jackson\", 10.1, 1952, [1,2], (\"A\", 1), \"pop\", 10, [\"eye\", \"green\"]]\n",
    "\n",
    "#Delete \n",
    "del(L[1])\n",
    "# [\"Michael Jackson\", 1952, [1,2], (\"A\", 1), \"pop\", 10, [\"eye\", \"green\"]]\n",
    "\n",
    "# Method split\n",
    "\"hard rock\".split() # [\"hard\", \"rock\"]\n",
    "\"A,B,C,D\".split(\",\") # [\"A\", \"B\", \"C\", \"D\"]\n",
    "\n",
    "#Clone\n",
    "A = [\"hard rock\", 10, 1.2]\n",
    "B = A[:] #clone sintax"
   ]
  },
  {
   "cell_type": "markdown",
   "metadata": {},
   "source": [
    "### Sets\n",
    "- Are a type of collection\n",
    "  - This means that like list and tuples you can input different Python type\n",
    "- Unlike lists and tuples they are unordered\n",
    "  - this means sets do not record element position\n",
    "- Sets only have unique elements\n",
    "  - This means there is only one of a particular element in a set"
   ]
  },
  {
   "cell_type": "code",
   "execution_count": 20,
   "metadata": {},
   "outputs": [],
   "source": [
    "Set1 = {\"pop\", \"rock\", \"soul\", \"hard rock\", \"rock\", \"r&r\", \"rock\"} \n",
    "# duplicate items will not be created (\"rock\")"
   ]
  },
  {
   "cell_type": "code",
   "execution_count": 21,
   "metadata": {},
   "outputs": [
    {
     "name": "stdout",
     "output_type": "stream",
     "text": [
      "{'rock', 'soul', 'r&r', 'hard rock', 'pop'}\n"
     ]
    }
   ],
   "source": [
    "print(Set1) "
   ]
  },
  {
   "cell_type": "code",
   "execution_count": 22,
   "metadata": {},
   "outputs": [
    {
     "name": "stdout",
     "output_type": "stream",
     "text": [
      "{'Thriller', 1982, 'Michael Jackson'}\n"
     ]
    }
   ],
   "source": [
    "album_list = [\"Michael Jackson\", \"Thriller\", \"Thriller\", 1982]\n",
    "album_set = set(album_list)\n",
    "print(album_set)"
   ]
  },
  {
   "cell_type": "markdown",
   "metadata": {},
   "source": [
    "#### Set Operations"
   ]
  },
  {
   "cell_type": "code",
   "execution_count": 23,
   "metadata": {},
   "outputs": [
    {
     "name": "stdout",
     "output_type": "stream",
     "text": [
      "{'Back in Black', 'AC/DC', 'NSYNC', 'Thriller'}\n",
      "{'Back in Black', 'AC/DC', 'Thriller'}\n",
      "True\n",
      "False\n"
     ]
    }
   ],
   "source": [
    "A = {\"Thriller\", \"Back in Black\", \"AC/DC\"}\n",
    "A.add(\"NSYNC\")\n",
    "A.add(\"NSYNC\")\n",
    "A.add(\"NSYNC\")\n",
    "print(A)\n",
    "A.remove(\"NSYNC\")\n",
    "print(A)\n",
    "print(\"AC/DC\" in A)\n",
    "print(\"Jose\" in A)"
   ]
  },
  {
   "cell_type": "markdown",
   "metadata": {},
   "source": [
    "#### Sets:  Mathematical set operations"
   ]
  },
  {
   "cell_type": "code",
   "execution_count": 24,
   "metadata": {},
   "outputs": [
    {
     "name": "stdout",
     "output_type": "stream",
     "text": [
      "{'Back in Black', 'AC/DC'}\n",
      "True\n",
      "{'Back in Black', 'The Dark Side of the Moon', 'AC/DC', 'Thriller'}\n"
     ]
    }
   ],
   "source": [
    "album_set_1 = {\"Thriller\", \"Back in Black\", \"AC/DC\"}\n",
    "album_set_2 = {\"AC/DC\", \"Back in Black\", \"The Dark Side of the Moon\"}\n",
    "album_set_3 = album_set_1 & album_set_2\n",
    "print (album_set_3)\n",
    "print(album_set_3.issubset(album_set_1))\n",
    "album_set_4 = album_set_1.union(album_set_2)\n",
    "print (album_set_4)"
   ]
  },
  {
   "cell_type": "markdown",
   "metadata": {},
   "source": [
    "### Dictionaries \n",
    "- Is a key:value type of collection\n",
    "- Are denoted with curly brackets {}\n",
    "- The keys have to be immutable and unique\n",
    "- Each key and value pair is separated by a comma"
   ]
  },
  {
   "cell_type": "code",
   "execution_count": 25,
   "metadata": {},
   "outputs": [
    {
     "name": "stdout",
     "output_type": "stream",
     "text": [
      "True\n",
      "dict_keys(['Back in Black', 'The Dark Side of the Moon', 'Rumors'])\n",
      "dict_values(['1980', '1973', '1977'])\n"
     ]
    }
   ],
   "source": [
    "dic = {\n",
    "  \"Thriller\": \"1982\",\n",
    "  \"Back in Black\": \"1980\",\n",
    "  \"The Dark Side of the Moon\": \"1973\"\n",
    "}\n",
    "\n",
    "# Add a new key:value to the dictionary\n",
    "dic[\"Rumors\"] = \"1977\"\n",
    "\n",
    "# Delete method\n",
    "del(dic[\"Thriller\"])\n",
    "\n",
    "#Verify if a key is in the dictionary\n",
    "print(\"Back in Black\" in dic)\n",
    "\n",
    "# Get a list of dictionary's keys\n",
    "keys = dic.keys()\n",
    "print(keys)\n",
    "\n",
    "# Get a list of dictonary's values\n",
    "values = dic.values()\n",
    "print(values)"
   ]
  }
 ],
 "metadata": {
  "kernelspec": {
   "display_name": "Python 3.10.6 64-bit",
   "language": "python",
   "name": "python3"
  },
  "language_info": {
   "codemirror_mode": {
    "name": "ipython",
    "version": 3
   },
   "file_extension": ".py",
   "mimetype": "text/x-python",
   "name": "python",
   "nbconvert_exporter": "python",
   "pygments_lexer": "ipython3",
   "version": "3.10.6"
  },
  "orig_nbformat": 4,
  "vscode": {
   "interpreter": {
    "hash": "b0fa6594d8f4cbf19f97940f81e996739fb7646882a419484c72d19e05852a7e"
   }
  }
 },
 "nbformat": 4,
 "nbformat_minor": 2
}
